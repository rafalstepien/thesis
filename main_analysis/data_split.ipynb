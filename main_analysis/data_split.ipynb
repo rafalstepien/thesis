{
 "cells": [
  {
   "cell_type": "code",
   "execution_count": 1,
   "id": "73e36f5f",
   "metadata": {},
   "outputs": [],
   "source": [
    "import pandas as pd\n",
    "from sklearn.model_selection import train_test_split"
   ]
  },
  {
   "cell_type": "code",
   "execution_count": 2,
   "id": "3e0fed54",
   "metadata": {},
   "outputs": [],
   "source": [
    "PATH_PATIENT_IDS_1 = \"data/data_to_split/severity_X_holdout_to_GWAS.csv\"\n",
    "PATH_PATIENT_IDS_2 = \"data/data_to_split/severity_X_train_to_GWAS.csv\"\n",
    "PATH_TARGETS_1 = \"data/data_to_split/severity_y_holdout_to_GWAS.csv\"\n",
    "PATH_TARGETS_2 = \"data/data_to_split/severity_y_train_to_GWAS.csv\"\n",
    "\n",
    "PATH_TO_DATASET = \"data/just_significant_snps_with_genotypes.csv\"\n",
    "\n",
    "NUMBER_OF_SAMPLES_IN_HOLDOUT = 243\n",
    "TOTAL_NUMBER_OF_PATIENTS = 969\n",
    "NEW_INDEX = range(NUMBER_OF_SAMPLES_IN_HOLDOUT, TOTAL_NUMBER_OF_PATIENTS)\n",
    "RANDOM_SEED = 0"
   ]
  },
  {
   "cell_type": "markdown",
   "id": "6d9c1708",
   "metadata": {},
   "source": [
    "## Fixing the data"
   ]
  },
  {
   "cell_type": "code",
   "execution_count": 3,
   "id": "383b40d7",
   "metadata": {},
   "outputs": [],
   "source": [
    "patient_ids_1_dataframe = pd.read_csv(PATH_PATIENT_IDS_1)\n",
    "patient_ids_2_dataframe = pd.read_csv(PATH_PATIENT_IDS_2, )\n",
    "targets_1 = pd.read_csv(PATH_TARGETS_1)\n",
    "targets_2 = pd.read_csv(PATH_TARGETS_2)"
   ]
  },
  {
   "cell_type": "code",
   "execution_count": 4,
   "id": "c8ca86ff",
   "metadata": {},
   "outputs": [],
   "source": [
    "patient_ids_2_dataframe.index = NEW_INDEX\n",
    "targets_2.index = NEW_INDEX"
   ]
  },
  {
   "cell_type": "code",
   "execution_count": 5,
   "id": "92cb3fca",
   "metadata": {},
   "outputs": [],
   "source": [
    "all_ids_dataframe = pd.concat([patient_ids_1_dataframe, patient_ids_2_dataframe])\n",
    "all_targets_dataframe = pd.concat([targets_1, targets_2])"
   ]
  },
  {
   "cell_type": "markdown",
   "id": "bc947d52",
   "metadata": {},
   "source": [
    "## Data split"
   ]
  },
  {
   "cell_type": "code",
   "execution_count": 6,
   "id": "86c74ff5",
   "metadata": {},
   "outputs": [],
   "source": [
    "X_train, X_test, y_train, y_test = train_test_split(all_ids_dataframe, all_targets_dataframe, test_size=0.3, random_state=RANDOM_SEED, stratify=all_targets_dataframe)"
   ]
  },
  {
   "cell_type": "code",
   "execution_count": 7,
   "id": "e1130059",
   "metadata": {},
   "outputs": [
    {
     "name": "stdout",
     "output_type": "stream",
     "text": [
      "(678, 1)\n",
      "(291, 1)\n",
      "(678, 1)\n",
      "(291, 1)\n"
     ]
    }
   ],
   "source": [
    "print(X_train.shape)\n",
    "print(X_test.shape)\n",
    "print(y_train.shape)\n",
    "print(y_test.shape)"
   ]
  },
  {
   "cell_type": "code",
   "execution_count": 8,
   "id": "e07544b8",
   "metadata": {},
   "outputs": [
    {
     "data": {
      "text/plain": [
       "array([[<AxesSubplot:title={'center':'target_severity'}>]], dtype=object)"
      ]
     },
     "execution_count": 8,
     "metadata": {},
     "output_type": "execute_result"
    },
    {
     "data": {
      "image/png": "[encoded data removed]",
      "text/plain": [
       "<Figure size 432x288 with 1 Axes>"
      ]
     },
     "metadata": {
      "needs_background": "light"
     },
     "output_type": "display_data"
    }
   ],
   "source": [
    "y_train.hist()"
   ]
  },
  {
   "cell_type": "code",
   "execution_count": 9,
   "id": "80bb8728",
   "metadata": {},
   "outputs": [
    {
     "data": {
      "text/plain": [
       "array([[<AxesSubplot:title={'center':'target_severity'}>]], dtype=object)"
      ]
     },
     "execution_count": 9,
     "metadata": {},
     "output_type": "execute_result"
    },
    {
     "data": {
      "image/png": "[encoded data removed]",
      "text/plain": [
       "<Figure size 432x288 with 1 Axes>"
      ]
     },
     "metadata": {
      "needs_background": "light"
     },
     "output_type": "display_data"
    }
   ],
   "source": [
    "y_test.hist()"
   ]
  },
  {
   "cell_type": "markdown",
   "id": "c9133c90",
   "metadata": {},
   "source": [
    "## Select data by ids"
   ]
  },
  {
   "cell_type": "code",
   "execution_count": 10,
   "id": "19834eae",
   "metadata": {},
   "outputs": [],
   "source": [
    "dataset = pd.read_csv(PATH_TO_DATASET, sep=\";\").set_index(\"SNP_ID\").T"
   ]
  },
  {
   "cell_type": "code",
   "execution_count": 11,
   "id": "60e7d8ea",
   "metadata": {},
   "outputs": [],
   "source": [
    "X_train_data = dataset[dataset.index.isin(X_train.patient_id)]\n",
    "X_holdout_data = dataset[dataset.index.isin(X_test.patient_id)]\n",
    "\n",
    "y_train_data = y_train\n",
    "y_holdout_data = y_test"
   ]
  },
  {
   "cell_type": "code",
   "execution_count": 12,
   "id": "25fabbc0",
   "metadata": {},
   "outputs": [],
   "source": [
    "X_train_data.to_csv(\"data/data_after_split/X_train.csv\")\n",
    "X_holdout_data.to_csv(\"data/data_after_split/X_holdout.csv\")\n",
    "y_train_data.to_csv(\"data/data_after_split/y_train.csv\", index=False)\n",
    "y_holdout_data.to_csv(\"data/data_after_split/y_holdout.csv\", index=False)"
   ]
  },
  {
   "cell_type": "code",
   "execution_count": null,
   "id": "bfa0dee6",
   "metadata": {},
   "outputs": [],
   "source": []
  }
 ],
 "metadata": {
  "kernelspec": {
   "display_name": "Python 3 (ipykernel)",
   "language": "python",
   "name": "python3"
  },
  "language_info": {
   "codemirror_mode": {
    "name": "ipython",
    "version": 3
   },
   "file_extension": ".py",
   "mimetype": "text/x-python",
   "name": "python",
   "nbconvert_exporter": "python",
   "pygments_lexer": "ipython3",
   "version": "3.9.5"
  }
 },
 "nbformat": 4,
 "nbformat_minor": 5
}
